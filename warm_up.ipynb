{
 "cells": [
  {
   "cell_type": "markdown",
   "metadata": {},
   "source": [
    "# Warm up\n",
    "Let's start with some warm up exercises to get you familiar with the database and do some SQL querying.\n",
    "Make sure to have downloaded the NBA dataset form Kaggle as described in the README."
   ]
  },
  {
   "cell_type": "code",
   "execution_count": null,
   "metadata": {},
   "outputs": [],
   "source": [
    "import sqlite3 as sql\n",
    "import pandas as pd\n",
    "from pathlib import Path\n",
    "\n",
    "## TODO: Use pathlib to get the path to the data directory. Path(__file__) won't work in a Jupyter notebook.\n",
    "DATA_PATH = Path.cwd() / \"data\" / \"nba.sqlite\""
   ]
  },
  {
   "cell_type": "markdown",
   "metadata": {},
   "source": [
    "## Create a SQLite connection and run some SQL queries"
   ]
  },
  {
   "cell_type": "code",
   "execution_count": null,
   "metadata": {},
   "outputs": [],
   "source": [
    "con = sql.connect(DATA_PATH)  # connect to the database\n",
    "\"query = SELECT * FROM game LIMIT 10;\"  # write a query that selects the first 10 rows from the game table\n",
    "top_10_game = pd.read_sql(query, con)  # read the query into a pandas dataframe\n",
    "top_10_game.head()  # print the dataframe"
   ]
  },
  {
   "cell_type": "code",
   "execution_count": null,
   "metadata": {},
   "outputs": [],
   "source": [
    "# let's look at the schema of the database\n",
    "# TODO: sqlite_master is the name of the table you want to inspect: Replace TABLE_NAME with the name of the table you want to inspect\n",
    "query = \"\"\"\n",
    "    SELECT *\n",
    "    FROM sqlite_master\n",
    "\"\"\"\n",
    "\n",
    "pd.read_sql(query, con).sort_values('name')"
   ]
  },
  {
   "cell_type": "code",
   "execution_count": null,
   "metadata": {},
   "outputs": [],
   "source": [
    "# let's see all the tables we have in the database\n",
    "# TODO: Filter for tables only\n",
    "query = \"\"\"\n",
    "    SELECT name\n",
    "    FROM sqlite_master\n",
    "    WHERE type='table'\n",
    "\"\"\"\n",
    "pd.read_sql(query, con)"
   ]
  },
  {
   "cell_type": "code",
   "execution_count": null,
   "metadata": {},
   "outputs": [],
   "source": [
    "# let's have a look at the columns in the game table\n",
    "query = \"\"\"\n",
    "    PRAGMA table_info(game)\n",
    "\"\"\"\n",
    "pd.read_sql(query, con)"
   ]
  },
  {
   "cell_type": "code",
   "execution_count": null,
   "metadata": {},
   "outputs": [],
   "source": [
    "# let's find the earliest recorded game\n",
    "query = \"\"\"\n",
    "    SELECT game_date\n",
    "    FROM game\n",
    "    ORDER BY game_date\n",
    "    LIMIT 1\n",
    "\"\"\"\n",
    "\n",
    "print(pd.read_sql(query, con))\n",
    "\n",
    "# let's find the latest recorded game\n",
    "query = \"\"\"\n",
    "    SELECT game_date    \n",
    "    FROM game\n",
    "    ORDER BY game_date DESC\n",
    "    LIMIT 1\n",
    "\"\"\"\n",
    "\n",
    "print(pd.read_sql(query, con))\n"
   ]
  },
  {
   "cell_type": "code",
   "execution_count": null,
   "metadata": {},
   "outputs": [],
   "source": [
    "# TODO: Find four interesting facts about the data and write a query to find the answer"
   ]
  },
  {
   "cell_type": "code",
   "execution_count": null,
   "metadata": {},
   "outputs": [],
   "source": [
    "query = \"\"\"\n",
    "SELECT first_name, \n",
    "       COUNT(first_name) * 100.0 / (SELECT COUNT(*) FROM officials) AS percentage_name\n",
    "FROM officials\n",
    "GROUP BY first_name\n",
    "ORDER BY COUNT(first_name) DESC\n",
    "LIMIT 3;\n",
    "\"\"\"\n",
    "finding1 = \"Over 4% of all the officials are called Scott, with over 10% of officials having one of the 3 most popular names Scott, Tony or Mark\"\n",
    "print(pd.read_sql(query, con))\n",
    "print(finding1)"
   ]
  },
  {
   "cell_type": "code",
   "execution_count": null,
   "metadata": {},
   "outputs": [],
   "source": [
    "query = \"\"\"\n",
    "SELECT AVG(height_wo_shoes), AVG(height_w_shoes), AVG(height_w_shoes) - AVG(height_wo_shoes) AS avg_diff\n",
    "FROM draft_combine_stats\n",
    ";\n",
    "\"\"\"\n",
    "finding2 = \"On average basketball players only gain an extra 1.19 inches when they put on their shoes - I thought it would be higher\"\n",
    "print(pd.read_sql(query, con))\n",
    "print(finding2)"
   ]
  },
  {
   "cell_type": "code",
   "execution_count": null,
   "metadata": {},
   "outputs": [],
   "source": [
    "query = \"\"\"\n",
    "    SELECT country, count(country) as country_total, MIN(from_year) as first_appearance\n",
    "    FROM common_player_info\n",
    "    GROUP BY country\n",
    "    ORDER BY country_total  DESC\n",
    "    LIMIT 5\n",
    "\"\"\"\n",
    "pd.read_sql(query, con)\n"
   ]
  },
  {
   "cell_type": "code",
   "execution_count": null,
   "metadata": {},
   "outputs": [],
   "source": [
    "query = \"\"\"\n",
    "   SELECT \n",
    "    CASE\n",
    "        WHEN country = 'USA' THEN 'United States'\n",
    "        ELSE 'Other'\n",
    "    END AS country_group,\n",
    "    COUNT(*) AS total_players,\n",
    "    ROUND(AVG(min_year)) AS avg_date_started_playing\n",
    "FROM (\n",
    "    SELECT \n",
    "        country,\n",
    "        MIN(from_year) AS min_year\n",
    "    FROM common_player_info\n",
    "    GROUP BY person_id, country\n",
    "    ) AS min_years_per_player\n",
    "GROUP BY country_group;\n",
    "\"\"\"\n",
    "\n",
    "finding3 = \"The vast majority of the NBA players are from the USA, however the sport seems to be becoming increasingly international as the average year that players from other countries started playing is 2010, compared to 1987 for US players, which is almost exactly the average of the length of time the NBA has been running\"\n",
    "print(pd.read_sql(query, con))\n",
    "print(finding3)"
   ]
  },
  {
   "cell_type": "code",
   "execution_count": null,
   "metadata": {},
   "outputs": [],
   "source": [
    "query = \"\"\"\n",
    "    SELECT COUNT(inactive_players.game_id) AS number_of_inactive_games, draft_combine_stats.player_id\n",
    "    FROM inactive_players\n",
    "    INNER JOIN draft_combine_stats ON inactive_players.player_id = draft_combine_stats.player_id\n",
    "    GROUP BY inactive_players.game_id\n",
    "    ORDER BY COUNT(inactive_players.game_id) DESC\n",
    "\"\"\"\n",
    "\n",
    "finding4 = \"Newer players are more likely to be inactive\"\n",
    "print(pd.read_sql(query, con))\n",
    "print(finding4)"
   ]
  }
 ],
 "metadata": {
  "kernelspec": {
   "display_name": "nba",
   "language": "python",
   "name": "python3"
  },
  "language_info": {
   "codemirror_mode": {
    "name": "ipython",
    "version": 3
   },
   "file_extension": ".py",
   "mimetype": "text/x-python",
   "name": "python",
   "nbconvert_exporter": "python",
   "pygments_lexer": "ipython3",
   "version": "3.12.7"
  }
 },
 "nbformat": 4,
 "nbformat_minor": 2
}
